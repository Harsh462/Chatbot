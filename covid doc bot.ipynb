{
 "cells": [
  {
   "cell_type": "markdown",
   "metadata": {},
   "source": [
    "### ChatBot\n",
    "\n",
    "#### A piece of software that you text with to get things done or to be entertained \n",
    "#### These are computer programs that assist humans to seek information and perform tasks instantly\n",
    "\n",
    "### Types of Chatbots\n",
    "\n",
    "### Rule based chatbots\n",
    "#### These works on defined rules \n",
    "\n",
    "### Self-Learning chatbots\n",
    "#### For this ,Neural networks are used to train the chatbots to reply to the user \n",
    "\n",
    "### I created a machine learning  Covid-19 chatbot using Nlp "
   ]
  },
  {
   "cell_type": "code",
   "execution_count": 20,
   "metadata": {},
   "outputs": [
    {
     "name": "stdout",
     "output_type": "stream",
     "text": [
      "Requirement already satisfied: nltk in c:\\users\\harsh\\anaconda3\\lib\\site-packages (3.4.4)\n",
      "Requirement already satisfied: six in c:\\users\\harsh\\anaconda3\\lib\\site-packages (from nltk) (1.12.0)\n"
     ]
    }
   ],
   "source": [
    "#for working with Human language\n",
    "!pip install nltk  "
   ]
  },
  {
   "cell_type": "code",
   "execution_count": 21,
   "metadata": {},
   "outputs": [
    {
     "name": "stdout",
     "output_type": "stream",
     "text": [
      "Requirement already satisfied: newspaper3k in c:\\users\\harsh\\anaconda3\\lib\\site-packages (0.2.8)\n",
      "Requirement already satisfied: python-dateutil>=2.5.3 in c:\\users\\harsh\\anaconda3\\lib\\site-packages (from newspaper3k) (2.8.0)\n",
      "Requirement already satisfied: Pillow>=3.3.0 in c:\\users\\harsh\\anaconda3\\lib\\site-packages (from newspaper3k) (6.1.0)\n",
      "Requirement already satisfied: cssselect>=0.9.2 in c:\\users\\harsh\\anaconda3\\lib\\site-packages (from newspaper3k) (1.1.0)\n",
      "Requirement already satisfied: nltk>=3.2.1 in c:\\users\\harsh\\anaconda3\\lib\\site-packages (from newspaper3k) (3.4.4)\n",
      "Requirement already satisfied: feedparser>=5.2.1 in c:\\users\\harsh\\anaconda3\\lib\\site-packages (from newspaper3k) (5.2.1)\n",
      "Requirement already satisfied: beautifulsoup4>=4.4.1 in c:\\users\\harsh\\anaconda3\\lib\\site-packages (from newspaper3k) (4.7.1)\n",
      "Requirement already satisfied: lxml>=3.6.0 in c:\\users\\harsh\\anaconda3\\lib\\site-packages (from newspaper3k) (4.3.4)\n",
      "Requirement already satisfied: jieba3k>=0.35.1 in c:\\users\\harsh\\anaconda3\\lib\\site-packages (from newspaper3k) (0.35.1)\n",
      "Requirement already satisfied: feedfinder2>=0.0.4 in c:\\users\\harsh\\anaconda3\\lib\\site-packages (from newspaper3k) (0.0.4)\n",
      "Requirement already satisfied: tinysegmenter==0.3 in c:\\users\\harsh\\anaconda3\\lib\\site-packages (from newspaper3k) (0.3)\n",
      "Requirement already satisfied: requests>=2.10.0 in c:\\users\\harsh\\anaconda3\\lib\\site-packages (from newspaper3k) (2.22.0)\n",
      "Requirement already satisfied: PyYAML>=3.11 in c:\\users\\harsh\\anaconda3\\lib\\site-packages (from newspaper3k) (5.1.1)\n",
      "Requirement already satisfied: tldextract>=2.0.1 in c:\\users\\harsh\\anaconda3\\lib\\site-packages (from newspaper3k) (2.2.2)\n",
      "Requirement already satisfied: six>=1.5 in c:\\users\\harsh\\anaconda3\\lib\\site-packages (from python-dateutil>=2.5.3->newspaper3k) (1.12.0)\n",
      "Requirement already satisfied: soupsieve>=1.2 in c:\\users\\harsh\\anaconda3\\lib\\site-packages (from beautifulsoup4>=4.4.1->newspaper3k) (1.8)\n",
      "Requirement already satisfied: chardet<3.1.0,>=3.0.2 in c:\\users\\harsh\\anaconda3\\lib\\site-packages (from requests>=2.10.0->newspaper3k) (3.0.4)\n",
      "Requirement already satisfied: urllib3!=1.25.0,!=1.25.1,<1.26,>=1.21.1 in c:\\users\\harsh\\anaconda3\\lib\\site-packages (from requests>=2.10.0->newspaper3k) (1.24.2)\n",
      "Requirement already satisfied: idna<2.9,>=2.5 in c:\\users\\harsh\\anaconda3\\lib\\site-packages (from requests>=2.10.0->newspaper3k) (2.8)\n",
      "Requirement already satisfied: certifi>=2017.4.17 in c:\\users\\harsh\\anaconda3\\lib\\site-packages (from requests>=2.10.0->newspaper3k) (2019.6.16)\n",
      "Requirement already satisfied: requests-file>=1.4 in c:\\users\\harsh\\anaconda3\\lib\\site-packages (from tldextract>=2.0.1->newspaper3k) (1.4.3)\n",
      "Requirement already satisfied: setuptools in c:\\users\\harsh\\anaconda3\\lib\\site-packages (from tldextract>=2.0.1->newspaper3k) (41.0.1)\n"
     ]
    }
   ],
   "source": [
    "# for extracting articles \n",
    "!pip install newspaper3k"
   ]
  },
  {
   "cell_type": "code",
   "execution_count": 22,
   "metadata": {},
   "outputs": [],
   "source": [
    "from newspaper import Article\n",
    "import random\n",
    "import string\n",
    "#the words need to be encoded as integers or floating point values for use as input to a machine learning algorithm, called  vectorization.\n",
    "from sklearn.feature_extraction.text import TfidfVectorizer\n",
    "# gives similarity between 2 non zero vectors(basically its gives the cosine angle for the dot product)\n",
    "from sklearn.metrics.pairwise import cosine_similarity\n",
    "import nltk\n",
    "import numpy as np\n",
    "import warnings"
   ]
  },
  {
   "cell_type": "code",
   "execution_count": 23,
   "metadata": {},
   "outputs": [],
   "source": [
    "warnings.filterwarnings('ignore')"
   ]
  },
  {
   "cell_type": "code",
   "execution_count": 24,
   "metadata": {},
   "outputs": [],
   "source": [
    "#nltk.download('punkt', quiet=True)\n",
    "#nltk.download('wordnet', quiet=True)# for getting the meanings of words,synonyms and much more  "
   ]
  },
  {
   "cell_type": "code",
   "execution_count": 25,
   "metadata": {
    "scrolled": true
   },
   "outputs": [
    {
     "name": "stdout",
     "output_type": "stream",
     "text": [
      "Overview\n",
      "\n",
      "Coronavirus Open pop-up dialog box Close Coronavirus Coronavirus Coronavirus is a family of viruses that can cause respiratory illnesses such as the common cold, severe acute respiratory syndrome (SARS) and Middle East respiratory syndrome (MERS).\n",
      "\n",
      "Coronaviruses are a family of viruses that can cause illnesses such as the common cold, severe acute respiratory syndrome (SARS) and Middle East respiratory syndrome (MERS). In 2019, a new coronavirus was identified as the cause of a disease outbreak that originated in China.\n",
      "\n",
      "The virus is now known as the severe acute respiratory syndrome coronavirus 2 (SARS-CoV-2). The disease it causes is called coronavirus disease 2019 (COVID-19). In March 2020, the World Health Organization (WHO) declared the COVID-19 outbreak a pandemic.\n",
      "\n",
      "Public health groups, including the U.S. Centers for Disease Control and Prevention (CDC) and WHO , are monitoring the pandemic and posting updates on their websites. These groups have also issued recommendations for preventing and treating the illness.\n",
      "\n",
      "Symptoms\n",
      "\n",
      "Signs and symptoms of coronavirus disease 2019 (COVID-19) may appear two to 14 days after exposure. This time after exposure and before having symptoms is called the incubation period. Common signs and symptoms can include:\n",
      "\n",
      "Fever\n",
      "\n",
      "Cough\n",
      "\n",
      "Tiredness\n",
      "\n",
      "Early symptoms of COVID-19 may include a loss of taste or smell.\n",
      "\n",
      "Other symptoms can include:\n",
      "\n",
      "Shortness of breath or difficulty breathing\n",
      "\n",
      "Muscle aches\n",
      "\n",
      "Chills\n",
      "\n",
      "Sore throat\n",
      "\n",
      "Runny nose\n",
      "\n",
      "Headache\n",
      "\n",
      "Chest pain\n",
      "\n",
      "This list is not all inclusive. Other less common symptoms have been reported, such as rash, nausea, vomiting and diarrhea. Children have similar symptoms to adults and generally have mild illness.\n",
      "\n",
      "The severity of COVID-19 symptoms can range from very mild to severe. Some people may have only a few symptoms, and some people may have no symptoms at all. Some people may experience worsened symptoms, such as worsened shortness of breath and pneumonia, about a week after symptoms start.\n",
      "\n",
      "People who are older have a higher risk of serious illness from COVID-19 , and the risk increases with age. People who have existing chronic medical conditions also may have a higher risk of serious illness. Chronic medical conditions that increase the risk of serious illness from COVID-19 include:\n",
      "\n",
      "Serious heart diseases, such as heart failure, coronary artery disease or cardiomyopathy\n",
      "\n",
      "Chronic obstructive pulmonary disease (COPD)\n",
      "\n",
      "Type 2 diabetes\n",
      "\n",
      "Severe obesity\n",
      "\n",
      "Chronic kidney disease\n",
      "\n",
      "Sickle cell disease\n",
      "\n",
      "Weakened immune system from solid organ transplants\n",
      "\n",
      "Other conditions may increase the risk of serious illness, such as:\n",
      "\n",
      "Asthma\n",
      "\n",
      "Liver disease\n",
      "\n",
      "Chronic lung diseases such as cystic fibrosis\n",
      "\n",
      "Brain and nervous system conditions\n",
      "\n",
      "Weakened immune system from bone marrow transplant, HIV or some medications\n",
      "\n",
      "Type 1 diabetes\n",
      "\n",
      "High blood pressure\n",
      "\n",
      "This list is not all inclusive. Other underlying medical conditions may increase your risk of serious illness from COVID-19 .\n",
      "\n",
      "COVID-19 Self-Assessment Tool\n",
      "\n",
      "Assess your symptoms and find out if you're a candidate for a coronavirus disease 2019 (COVID-19) test.\n",
      "\n",
      "When to see a doctor\n",
      "\n",
      "If you have COVID-19 symptoms or you've been in contact with someone diagnosed with COVID-19 , contact your doctor or clinic right away for medical advice. Tell your health care team about your symptoms and possible exposure before you go to your appointment.\n",
      "\n",
      "If you have emergency COVID-19 signs and symptoms, seek care immediately. Emergency signs and symptoms can include:\n",
      "\n",
      "Trouble breathing\n",
      "\n",
      "Persistent chest pain or pressure\n",
      "\n",
      "Inability to stay awake\n",
      "\n",
      "New confusion\n",
      "\n",
      "Blue lips or face\n",
      "\n",
      "If you have signs or symptoms of COVID-19 , contact your doctor or clinic for guidance. Let your doctor know if you have other chronic medical conditions, such as heart disease or lung disease. During the pandemic, it's important to make sure health care is available for those in greatest need.\n",
      "\n",
      "More Information Unusual symptoms of coronavirus\n",
      "\n",
      "Causes\n",
      "\n",
      "Infection with the new coronavirus (severe acute respiratory syndrome coronavirus 2, or SARS-CoV-2) causes coronavirus disease 2019 ( COVID-19 ).\n",
      "\n",
      "The virus appears to spread easily among people, and more continues to be discovered over time about how it spreads. Data has shown that it spreads from person to person among those in close contact (within about 6 feet, or 2 meters). The virus spreads by respiratory droplets released when someone with the virus coughs, sneezes or talks. These droplets can be inhaled or land in the mouth or nose of a person nearby.\n",
      "\n",
      "It can also spread if a person touches a surface with the virus on it and then touches his or her mouth, nose or eyes, although this isn't considered to be a main way it spreads.\n",
      "\n",
      "Risk factors\n",
      "\n",
      "Risk factors for COVID-19 appear to include:\n",
      "\n",
      "Recent travel from or residence in an area with ongoing community spread of COVID-19 as determined by CDC or WHO\n",
      "\n",
      "as determined by or Close contact (within 6 feet, or 2 meters) with someone who has COVID-19 for more than 5 minutes or being coughed or sneezed on by an infected person\n",
      "\n",
      "Complications\n",
      "\n",
      "Although most people with COVID-19 have mild to moderate symptoms, the disease can cause severe medical complications and lead to death in some people. Older adults or people with existing chronic medical conditions are at greater risk of becoming seriously ill with COVID-19 .\n",
      "\n",
      "Complications can include:\n",
      "\n",
      "Pneumonia and trouble breathing\n",
      "\n",
      "Organ failure in several organs\n",
      "\n",
      "Heart problems\n",
      "\n",
      "A severe lung condition that causes a low amount of oxygen to go through your bloodstream to your organs (acute respiratory distress syndrome)\n",
      "\n",
      "Blood clots\n",
      "\n",
      "Acute kidney injury\n",
      "\n",
      "Additional viral and bacterial infections\n",
      "\n",
      "More Information Multisystem inflammatory syndrome in children (MIS-C)\n",
      "\n",
      "Prevention\n",
      "\n",
      "Although there is no vaccine available to prevent COVID-19 , you can take steps to reduce your risk of infection. WHO and CDC recommend following these precautions for avoiding COVID-19 :\n",
      "\n",
      "Avoid large events and mass gatherings.\n",
      "\n",
      "Avoid close contact (within about 6 feet, or 2 meters) with anyone who is sick or has symptoms.\n",
      "\n",
      "Stay home as much as possible and keep distance between yourself and others (within about 6 feet, or 2 meters), especially if you have a higher risk of serious illness. Keep in mind some people may have COVID-19 and spread it to others, even if they don't have symptoms or don't know they have COVID-19 .\n",
      "\n",
      "and spread it to others, even if they don't have symptoms or don't know they have . Wash your hands often with soap and water for at least 20 seconds, or use an alcohol-based hand sanitizer that contains at least 60% alcohol.\n",
      "\n",
      "Cover your face with a cloth face mask in public spaces, such as the grocery store, where it's difficult to avoid close contact with others, especially if you're in an area with ongoing community spread. Only use nonmedical cloth masks — surgical masks and N95 respirators should be reserved for health care providers.\n",
      "\n",
      "Cover your mouth and nose with your elbow or a tissue when you cough or sneeze. Throw away the used tissue. Wash your hands right away.\n",
      "\n",
      "Avoid touching your eyes, nose and mouth.\n",
      "\n",
      "Avoid sharing dishes, glasses, towels, bedding and other household items if you're sick.\n",
      "\n",
      "Clean and disinfect high-touch surfaces, such as doorknobs, light switches, electronics and counters, daily.\n",
      "\n",
      "Stay home from work, school and public areas if you're sick, unless you're going to get medical care. Avoid public transportation, taxis and ride-sharing if you're sick.\n",
      "\n",
      "If you have a chronic medical condition and may have a higher risk of serious illness, check with your doctor about other ways to protect yourself.\n",
      "\n",
      "Travel\n"
     ]
    }
   ],
   "source": [
    "article = Article('https://www.mayoclinic.org/diseases-conditions/coronavirus/symptoms-causes/syc-20479963')\n",
    "article.download()\n",
    "article.parse()\n",
    "article.nlp()\n",
    "corpus = article.text\n",
    "\n",
    "#Print the corpus/text\n",
    "print(corpus)"
   ]
  },
  {
   "cell_type": "code",
   "execution_count": 26,
   "metadata": {},
   "outputs": [
    {
     "name": "stdout",
     "output_type": "stream",
     "text": [
      "['Overview\\n\\nCoronavirus Open pop-up dialog box Close Coronavirus Coronavirus Coronavirus is a family of viruses that can cause respiratory illnesses such as the common cold, severe acute respiratory syndrome (SARS) and Middle East respiratory syndrome (MERS).', 'Coronaviruses are a family of viruses that can cause illnesses such as the common cold, severe acute respiratory syndrome (SARS) and Middle East respiratory syndrome (MERS).', 'In 2019, a new coronavirus was identified as the cause of a disease outbreak that originated in China.', 'The virus is now known as the severe acute respiratory syndrome coronavirus 2 (SARS-CoV-2).', 'The disease it causes is called coronavirus disease 2019 (COVID-19).', 'In March 2020, the World Health Organization (WHO) declared the COVID-19 outbreak a pandemic.', 'Public health groups, including the U.S. Centers for Disease Control and Prevention (CDC) and WHO , are monitoring the pandemic and posting updates on their websites.', 'These groups have also issued recommendations for preventing and treating the illness.', 'Symptoms\\n\\nSigns and symptoms of coronavirus disease 2019 (COVID-19) may appear two to 14 days after exposure.', 'This time after exposure and before having symptoms is called the incubation period.', 'Common signs and symptoms can include:\\n\\nFever\\n\\nCough\\n\\nTiredness\\n\\nEarly symptoms of COVID-19 may include a loss of taste or smell.', 'Other symptoms can include:\\n\\nShortness of breath or difficulty breathing\\n\\nMuscle aches\\n\\nChills\\n\\nSore throat\\n\\nRunny nose\\n\\nHeadache\\n\\nChest pain\\n\\nThis list is not all inclusive.', 'Other less common symptoms have been reported, such as rash, nausea, vomiting and diarrhea.', 'Children have similar symptoms to adults and generally have mild illness.', 'The severity of COVID-19 symptoms can range from very mild to severe.', 'Some people may have only a few symptoms, and some people may have no symptoms at all.', 'Some people may experience worsened symptoms, such as worsened shortness of breath and pneumonia, about a week after symptoms start.', 'People who are older have a higher risk of serious illness from COVID-19 , and the risk increases with age.', 'People who have existing chronic medical conditions also may have a higher risk of serious illness.', 'Chronic medical conditions that increase the risk of serious illness from COVID-19 include:\\n\\nSerious heart diseases, such as heart failure, coronary artery disease or cardiomyopathy\\n\\nChronic obstructive pulmonary disease (COPD)\\n\\nType 2 diabetes\\n\\nSevere obesity\\n\\nChronic kidney disease\\n\\nSickle cell disease\\n\\nWeakened immune system from solid organ transplants\\n\\nOther conditions may increase the risk of serious illness, such as:\\n\\nAsthma\\n\\nLiver disease\\n\\nChronic lung diseases such as cystic fibrosis\\n\\nBrain and nervous system conditions\\n\\nWeakened immune system from bone marrow transplant, HIV or some medications\\n\\nType 1 diabetes\\n\\nHigh blood pressure\\n\\nThis list is not all inclusive.', 'Other underlying medical conditions may increase your risk of serious illness from COVID-19 .', \"COVID-19 Self-Assessment Tool\\n\\nAssess your symptoms and find out if you're a candidate for a coronavirus disease 2019 (COVID-19) test.\", \"When to see a doctor\\n\\nIf you have COVID-19 symptoms or you've been in contact with someone diagnosed with COVID-19 , contact your doctor or clinic right away for medical advice.\", 'Tell your health care team about your symptoms and possible exposure before you go to your appointment.', 'If you have emergency COVID-19 signs and symptoms, seek care immediately.', 'Emergency signs and symptoms can include:\\n\\nTrouble breathing\\n\\nPersistent chest pain or pressure\\n\\nInability to stay awake\\n\\nNew confusion\\n\\nBlue lips or face\\n\\nIf you have signs or symptoms of COVID-19 , contact your doctor or clinic for guidance.', 'Let your doctor know if you have other chronic medical conditions, such as heart disease or lung disease.', \"During the pandemic, it's important to make sure health care is available for those in greatest need.\", 'More Information Unusual symptoms of coronavirus\\n\\nCauses\\n\\nInfection with the new coronavirus (severe acute respiratory syndrome coronavirus 2, or SARS-CoV-2) causes coronavirus disease 2019 ( COVID-19 ).', 'The virus appears to spread easily among people, and more continues to be discovered over time about how it spreads.', 'Data has shown that it spreads from person to person among those in close contact (within about 6 feet, or 2 meters).', 'The virus spreads by respiratory droplets released when someone with the virus coughs, sneezes or talks.', 'These droplets can be inhaled or land in the mouth or nose of a person nearby.', \"It can also spread if a person touches a surface with the virus on it and then touches his or her mouth, nose or eyes, although this isn't considered to be a main way it spreads.\", 'Risk factors\\n\\nRisk factors for COVID-19 appear to include:\\n\\nRecent travel from or residence in an area with ongoing community spread of COVID-19 as determined by CDC or WHO\\n\\nas determined by or Close contact (within 6 feet, or 2 meters) with someone who has COVID-19 for more than 5 minutes or being coughed or sneezed on by an infected person\\n\\nComplications\\n\\nAlthough most people with COVID-19 have mild to moderate symptoms, the disease can cause severe medical complications and lead to death in some people.', 'Older adults or people with existing chronic medical conditions are at greater risk of becoming seriously ill with COVID-19 .', 'Complications can include:\\n\\nPneumonia and trouble breathing\\n\\nOrgan failure in several organs\\n\\nHeart problems\\n\\nA severe lung condition that causes a low amount of oxygen to go through your bloodstream to your organs (acute respiratory distress syndrome)\\n\\nBlood clots\\n\\nAcute kidney injury\\n\\nAdditional viral and bacterial infections\\n\\nMore Information Multisystem inflammatory syndrome in children (MIS-C)\\n\\nPrevention\\n\\nAlthough there is no vaccine available to prevent COVID-19 , you can take steps to reduce your risk of infection.', 'WHO and CDC recommend following these precautions for avoiding COVID-19 :\\n\\nAvoid large events and mass gatherings.', 'Avoid close contact (within about 6 feet, or 2 meters) with anyone who is sick or has symptoms.', 'Stay home as much as possible and keep distance between yourself and others (within about 6 feet, or 2 meters), especially if you have a higher risk of serious illness.', \"Keep in mind some people may have COVID-19 and spread it to others, even if they don't have symptoms or don't know they have COVID-19 .\", \"and spread it to others, even if they don't have symptoms or don't know they have .\", 'Wash your hands often with soap and water for at least 20 seconds, or use an alcohol-based hand sanitizer that contains at least 60% alcohol.', \"Cover your face with a cloth face mask in public spaces, such as the grocery store, where it's difficult to avoid close contact with others, especially if you're in an area with ongoing community spread.\", 'Only use nonmedical cloth masks — surgical masks and N95 respirators should be reserved for health care providers.', 'Cover your mouth and nose with your elbow or a tissue when you cough or sneeze.', 'Throw away the used tissue.', 'Wash your hands right away.', 'Avoid touching your eyes, nose and mouth.', \"Avoid sharing dishes, glasses, towels, bedding and other household items if you're sick.\", 'Clean and disinfect high-touch surfaces, such as doorknobs, light switches, electronics and counters, daily.', \"Stay home from work, school and public areas if you're sick, unless you're going to get medical care.\", \"Avoid public transportation, taxis and ride-sharing if you're sick.\", 'If you have a chronic medical condition and may have a higher risk of serious illness, check with your doctor about other ways to protect yourself.', 'Travel']\n"
     ]
    }
   ],
   "source": [
    "text = corpus\n",
    "# converting the paragraph into sentences\n",
    "sent_tokens = nltk.sent_tokenize(text)\n",
    "print(sent_tokens)"
   ]
  },
  {
   "cell_type": "code",
   "execution_count": 27,
   "metadata": {},
   "outputs": [
    {
     "name": "stdout",
     "output_type": "stream",
     "text": [
      "['overview', 'coronavirus', 'open', 'pop-up', 'dialog', 'box', 'close', 'coronavirus', 'coronavirus', 'coronavirus', 'is', 'a', 'family', 'of', 'viruses', 'that', 'can', 'cause', 'respiratory', 'illnesses', 'such', 'as', 'the', 'common', 'cold', ',', 'severe', 'acute', 'respiratory', 'syndrome', '(', 'sars', ')', 'and', 'middle', 'east', 'respiratory', 'syndrome', '(', 'mers', ')', '.', 'coronaviruses', 'are', 'a', 'family', 'of', 'viruses', 'that', 'can', 'cause', 'illnesses', 'such', 'as', 'the', 'common', 'cold', ',', 'severe', 'acute', 'respiratory', 'syndrome', '(', 'sars', ')', 'and', 'middle', 'east', 'respiratory', 'syndrome', '(', 'mers', ')', '.', 'in', '2019', ',', 'a', 'new', 'coronavirus', 'was', 'identified', 'as', 'the', 'cause', 'of', 'a', 'disease', 'outbreak', 'that', 'originated', 'in', 'china', '.', 'the', 'virus', 'is', 'now', 'known', 'as', 'the', 'severe', 'acute', 'respiratory', 'syndrome', 'coronavirus', '2', '(', 'sars-cov-2', ')', '.', 'the', 'disease', 'it', 'causes', 'is', 'called', 'coronavirus', 'disease', '2019', '(', 'covid-19', ')', '.', 'in', 'march', '2020', ',', 'the', 'world', 'health', 'organization', '(', 'who', ')', 'declared', 'the', 'covid-19', 'outbreak', 'a', 'pandemic', '.', 'public', 'health', 'groups', ',', 'including', 'the', 'u.s.', 'centers', 'for', 'disease', 'control', 'and', 'prevention', '(', 'cdc', ')', 'and', 'who', ',', 'are', 'monitoring', 'the', 'pandemic', 'and', 'posting', 'updates', 'on', 'their', 'websites', '.', 'these', 'groups', 'have', 'also', 'issued', 'recommendations', 'for', 'preventing', 'and', 'treating', 'the', 'illness', '.', 'symptoms', 'signs', 'and', 'symptoms', 'of', 'coronavirus', 'disease', '2019', '(', 'covid-19', ')', 'may', 'appear', 'two', 'to', '14', 'days', 'after', 'exposure', '.', 'this', 'time', 'after', 'exposure', 'and', 'before', 'having', 'symptoms', 'is', 'called', 'the', 'incubation', 'period', '.', 'common', 'signs', 'and', 'symptoms', 'can', 'include', ':', 'fever', 'cough', 'tiredness', 'early', 'symptoms', 'of', 'covid-19', 'may', 'include', 'a', 'loss', 'of', 'taste', 'or', 'smell', '.', 'other', 'symptoms', 'can', 'include', ':', 'shortness', 'of', 'breath', 'or', 'difficulty', 'breathing', 'muscle', 'aches', 'chills', 'sore', 'throat', 'runny', 'nose', 'headache', 'chest', 'pain', 'this', 'list', 'is', 'not', 'all', 'inclusive', '.', 'other', 'less', 'common', 'symptoms', 'have', 'been', 'reported', ',', 'such', 'as', 'rash', ',', 'nausea', ',', 'vomiting', 'and', 'diarrhea', '.', 'children', 'have', 'similar', 'symptoms', 'to', 'adults', 'and', 'generally', 'have', 'mild', 'illness', '.', 'the', 'severity', 'of', 'covid-19', 'symptoms', 'can', 'range', 'from', 'very', 'mild', 'to', 'severe', '.', 'some', 'people', 'may', 'have', 'only', 'a', 'few', 'symptoms', ',', 'and', 'some', 'people', 'may', 'have', 'no', 'symptoms', 'at', 'all', '.', 'some', 'people', 'may', 'experience', 'worsened', 'symptoms', ',', 'such', 'as', 'worsened', 'shortness', 'of', 'breath', 'and', 'pneumonia', ',', 'about', 'a', 'week', 'after', 'symptoms', 'start', '.', 'people', 'who', 'are', 'older', 'have', 'a', 'higher', 'risk', 'of', 'serious', 'illness', 'from', 'covid-19', ',', 'and', 'the', 'risk', 'increases', 'with', 'age', '.', 'people', 'who', 'have', 'existing', 'chronic', 'medical', 'conditions', 'also', 'may', 'have', 'a', 'higher', 'risk', 'of', 'serious', 'illness', '.', 'chronic', 'medical', 'conditions', 'that', 'increase', 'the', 'risk', 'of', 'serious', 'illness', 'from', 'covid-19', 'include', ':', 'serious', 'heart', 'diseases', ',', 'such', 'as', 'heart', 'failure', ',', 'coronary', 'artery', 'disease', 'or', 'cardiomyopathy', 'chronic', 'obstructive', 'pulmonary', 'disease', '(', 'copd', ')', 'type', '2', 'diabetes', 'severe', 'obesity', 'chronic', 'kidney', 'disease', 'sickle', 'cell', 'disease', 'weakened', 'immune', 'system', 'from', 'solid', 'organ', 'transplants', 'other', 'conditions', 'may', 'increase', 'the', 'risk', 'of', 'serious', 'illness', ',', 'such', 'as', ':', 'asthma', 'liver', 'disease', 'chronic', 'lung', 'diseases', 'such', 'as', 'cystic', 'fibrosis', 'brain', 'and', 'nervous', 'system', 'conditions', 'weakened', 'immune', 'system', 'from', 'bone', 'marrow', 'transplant', ',', 'hiv', 'or', 'some', 'medications', 'type', '1', 'diabetes', 'high', 'blood', 'pressure', 'this', 'list', 'is', 'not', 'all', 'inclusive', '.', 'other', 'underlying', 'medical', 'conditions', 'may', 'increase', 'your', 'risk', 'of', 'serious', 'illness', 'from', 'covid-19', '.', 'covid-19', 'self-assessment', 'tool', 'assess', 'your', 'symptoms', 'and', 'find', 'out', 'if', 'you', \"'re\", 'a', 'candidate', 'for', 'a', 'coronavirus', 'disease', '2019', '(', 'covid-19', ')', 'test', '.', 'when', 'to', 'see', 'a', 'doctor', 'if', 'you', 'have', 'covid-19', 'symptoms', 'or', 'you', \"'ve\", 'been', 'in', 'contact', 'with', 'someone', 'diagnosed', 'with', 'covid-19', ',', 'contact', 'your', 'doctor', 'or', 'clinic', 'right', 'away', 'for', 'medical', 'advice', '.', 'tell', 'your', 'health', 'care', 'team', 'about', 'your', 'symptoms', 'and', 'possible', 'exposure', 'before', 'you', 'go', 'to', 'your', 'appointment', '.', 'if', 'you', 'have', 'emergency', 'covid-19', 'signs', 'and', 'symptoms', ',', 'seek', 'care', 'immediately', '.', 'emergency', 'signs', 'and', 'symptoms', 'can', 'include', ':', 'trouble', 'breathing', 'persistent', 'chest', 'pain', 'or', 'pressure', 'inability', 'to', 'stay', 'awake', 'new', 'confusion', 'blue', 'lips', 'or', 'face', 'if', 'you', 'have', 'signs', 'or', 'symptoms', 'of', 'covid-19', ',', 'contact', 'your', 'doctor', 'or', 'clinic', 'for', 'guidance', '.', 'let', 'your', 'doctor', 'know', 'if', 'you', 'have', 'other', 'chronic', 'medical', 'conditions', ',', 'such', 'as', 'heart', 'disease', 'or', 'lung', 'disease', '.', 'during', 'the', 'pandemic', ',', 'it', \"'s\", 'important', 'to', 'make', 'sure', 'health', 'care', 'is', 'available', 'for', 'those', 'in', 'greatest', 'need', '.', 'more', 'information', 'unusual', 'symptoms', 'of', 'coronavirus', 'causes', 'infection', 'with', 'the', 'new', 'coronavirus', '(', 'severe', 'acute', 'respiratory', 'syndrome', 'coronavirus', '2', ',', 'or', 'sars-cov-2', ')', 'causes', 'coronavirus', 'disease', '2019', '(', 'covid-19', ')', '.', 'the', 'virus', 'appears', 'to', 'spread', 'easily', 'among', 'people', ',', 'and', 'more', 'continues', 'to', 'be', 'discovered', 'over', 'time', 'about', 'how', 'it', 'spreads', '.', 'data', 'has', 'shown', 'that', 'it', 'spreads', 'from', 'person', 'to', 'person', 'among', 'those', 'in', 'close', 'contact', '(', 'within', 'about', '6', 'feet', ',', 'or', '2', 'meters', ')', '.', 'the', 'virus', 'spreads', 'by', 'respiratory', 'droplets', 'released', 'when', 'someone', 'with', 'the', 'virus', 'coughs', ',', 'sneezes', 'or', 'talks', '.', 'these', 'droplets', 'can', 'be', 'inhaled', 'or', 'land', 'in', 'the', 'mouth', 'or', 'nose', 'of', 'a', 'person', 'nearby', '.', 'it', 'can', 'also', 'spread', 'if', 'a', 'person', 'touches', 'a', 'surface', 'with', 'the', 'virus', 'on', 'it', 'and', 'then', 'touches', 'his', 'or', 'her', 'mouth', ',', 'nose', 'or', 'eyes', ',', 'although', 'this', 'is', \"n't\", 'considered', 'to', 'be', 'a', 'main', 'way', 'it', 'spreads', '.', 'risk', 'factors', 'risk', 'factors', 'for', 'covid-19', 'appear', 'to', 'include', ':', 'recent', 'travel', 'from', 'or', 'residence', 'in', 'an', 'area', 'with', 'ongoing', 'community', 'spread', 'of', 'covid-19', 'as', 'determined', 'by', 'cdc', 'or', 'who', 'as', 'determined', 'by', 'or', 'close', 'contact', '(', 'within', '6', 'feet', ',', 'or', '2', 'meters', ')', 'with', 'someone', 'who', 'has', 'covid-19', 'for', 'more', 'than', '5', 'minutes', 'or', 'being', 'coughed', 'or', 'sneezed', 'on', 'by', 'an', 'infected', 'person', 'complications', 'although', 'most', 'people', 'with', 'covid-19', 'have', 'mild', 'to', 'moderate', 'symptoms', ',', 'the', 'disease', 'can', 'cause', 'severe', 'medical', 'complications', 'and', 'lead', 'to', 'death', 'in', 'some', 'people', '.', 'older', 'adults', 'or', 'people', 'with', 'existing', 'chronic', 'medical', 'conditions', 'are', 'at', 'greater', 'risk', 'of', 'becoming', 'seriously', 'ill', 'with', 'covid-19', '.', 'complications', 'can', 'include', ':', 'pneumonia', 'and', 'trouble', 'breathing', 'organ', 'failure', 'in', 'several', 'organs', 'heart', 'problems', 'a', 'severe', 'lung', 'condition', 'that', 'causes', 'a', 'low', 'amount', 'of', 'oxygen', 'to', 'go', 'through', 'your', 'bloodstream', 'to', 'your', 'organs', '(', 'acute', 'respiratory', 'distress', 'syndrome', ')', 'blood', 'clots', 'acute', 'kidney', 'injury', 'additional', 'viral', 'and', 'bacterial', 'infections', 'more', 'information', 'multisystem', 'inflammatory', 'syndrome', 'in', 'children', '(', 'mis-c', ')', 'prevention', 'although', 'there', 'is', 'no', 'vaccine', 'available', 'to', 'prevent', 'covid-19', ',', 'you', 'can', 'take', 'steps', 'to', 'reduce', 'your', 'risk', 'of', 'infection', '.', 'who', 'and', 'cdc', 'recommend', 'following', 'these', 'precautions', 'for', 'avoiding', 'covid-19', ':', 'avoid', 'large', 'events', 'and', 'mass', 'gatherings', '.', 'avoid', 'close', 'contact', '(', 'within', 'about', '6', 'feet', ',', 'or', '2', 'meters', ')', 'with', 'anyone', 'who', 'is', 'sick', 'or', 'has', 'symptoms', '.', 'stay', 'home', 'as', 'much', 'as', 'possible', 'and', 'keep', 'distance', 'between', 'yourself', 'and', 'others', '(', 'within', 'about', '6', 'feet', ',', 'or', '2', 'meters', ')', ',', 'especially', 'if', 'you', 'have', 'a', 'higher', 'risk', 'of', 'serious', 'illness', '.', 'keep', 'in', 'mind', 'some', 'people', 'may', 'have', 'covid-19', 'and', 'spread', 'it', 'to', 'others', ',', 'even', 'if', 'they', 'do', \"n't\", 'have', 'symptoms', 'or', 'do', \"n't\", 'know', 'they', 'have', 'covid-19', '.', 'and', 'spread', 'it', 'to', 'others', ',', 'even', 'if', 'they', 'do', \"n't\", 'have', 'symptoms', 'or', 'do', \"n't\", 'know', 'they', 'have', '.', 'wash', 'your', 'hands', 'often', 'with', 'soap', 'and', 'water', 'for', 'at', 'least', '20', 'seconds', ',', 'or', 'use', 'an', 'alcohol-based', 'hand', 'sanitizer', 'that', 'contains', 'at', 'least', '60', '%', 'alcohol', '.', 'cover', 'your', 'face', 'with', 'a', 'cloth', 'face', 'mask', 'in', 'public', 'spaces', ',', 'such', 'as', 'the', 'grocery', 'store', ',', 'where', 'it', \"'s\", 'difficult', 'to', 'avoid', 'close', 'contact', 'with', 'others', ',', 'especially', 'if', 'you', \"'re\", 'in', 'an', 'area', 'with', 'ongoing', 'community', 'spread', '.', 'only', 'use', 'nonmedical', 'cloth', 'masks', '—', 'surgical', 'masks', 'and', 'n95', 'respirators', 'should', 'be', 'reserved', 'for', 'health', 'care', 'providers', '.', 'cover', 'your', 'mouth', 'and', 'nose', 'with', 'your', 'elbow', 'or', 'a', 'tissue', 'when', 'you', 'cough', 'or', 'sneeze', '.', 'throw', 'away', 'the', 'used', 'tissue', '.', 'wash', 'your', 'hands', 'right', 'away', '.', 'avoid', 'touching', 'your', 'eyes', ',', 'nose', 'and', 'mouth', '.', 'avoid', 'sharing', 'dishes', ',', 'glasses', ',', 'towels', ',', 'bedding', 'and', 'other', 'household', 'items', 'if', 'you', \"'re\", 'sick', '.', 'clean', 'and', 'disinfect', 'high-touch', 'surfaces', ',', 'such', 'as', 'doorknobs', ',', 'light', 'switches', ',', 'electronics', 'and', 'counters', ',', 'daily', '.', 'stay', 'home', 'from', 'work', ',', 'school', 'and', 'public', 'areas', 'if', 'you', \"'re\", 'sick', ',', 'unless', 'you', \"'re\", 'going', 'to', 'get', 'medical', 'care', '.', 'avoid', 'public', 'transportation', ',', 'taxis', 'and', 'ride-sharing', 'if', 'you', \"'re\", 'sick', '.', 'if', 'you', 'have', 'a', 'chronic', 'medical', 'condition', 'and', 'may', 'have', 'a', 'higher', 'risk', 'of', 'serious', 'illness', ',', 'check', 'with', 'your', 'doctor', 'about', 'other', 'ways', 'to', 'protect', 'yourself', '.', 'travel']\n"
     ]
    }
   ],
   "source": [
    "\n",
    "def lemnormalize(text):\n",
    "    return nltk.word_tokenize(text.lower())\n",
    "\n",
    "\n",
    "print(lemnormalize(text))"
   ]
  },
  {
   "cell_type": "code",
   "execution_count": 28,
   "metadata": {},
   "outputs": [],
   "source": [
    "input_response = [\"hi\",\"hello\",\"howdy\",\"whatsup\",\"hey\",\"hy\"]\n",
    "greeting_response = [\"Hi\",\"Hello\",\"Hey\",\"Hey there\"]\n",
    "\n",
    "def greet(sentence):\n",
    "    for word in sentence.split():\n",
    "        if word in input_response:\n",
    "            return random.choice(greeting_response)\n",
    "            \n",
    "    "
   ]
  },
  {
   "cell_type": "code",
   "execution_count": 29,
   "metadata": {},
   "outputs": [],
   "source": [
    "def response(user_response):\n",
    "    user_response = user_response.lower()\n",
    "    robo_response = ' '\n",
    "    sent_tokens.append(user_response)\n",
    "    tfidvect = TfidfVectorizer(tokenizer = lemnormalize,stop_words = 'english')#converting the lemmatize words into sparse matrix\n",
    "    tfidf = tfidvect.fit_transform(sent_tokens)\n",
    "    similarity = cosine_similarity(tfidf[-1],tfidf)# find the similarity b/w 2 words\n",
    "    index = similarity.argsort()[0][-2]# sorting the similarity score\n",
    "    flat = similarity.flatten()# reducing the dimension\n",
    "    flat.sort()\n",
    "    score = flat[-2]\n",
    "    \n",
    "    \n",
    "    if( score ==0):\n",
    "         robo_response = robo_response + \"Sorry,I don't understand\"\n",
    "    \n",
    "    else:\n",
    "         robo_response = robo_response + sent_tokens[index]\n",
    "    \n",
    "    sent_tokens.remove(user_response)\n",
    "    \n",
    "    return robo_response\n",
    "    \n",
    "    \n",
    "    "
   ]
  },
  {
   "cell_type": "code",
   "execution_count": 30,
   "metadata": {},
   "outputs": [
    {
     "name": "stdout",
     "output_type": "stream",
     "text": [
      "Hey,I m DocBOt,I am here to answer your queries about Covid-19.If you want to exit,enter Bye.\n",
      "hey\n",
      "DOCBot: Hey there\n",
      "hi\n",
      "DOCBot: Hi\n",
      "hey\n",
      "DOCBot: Hi\n",
      "coronavirus overview\n",
      "DOCBot:  Overview\n",
      "\n",
      "Coronavirus Open pop-up dialog box Close Coronavirus Coronavirus Coronavirus is a family of viruses that can cause respiratory illnesses such as the common cold, severe acute respiratory syndrome (SARS) and Middle East respiratory syndrome (MERS).\n",
      "virus spreads\n",
      "DOCBot:  The virus spreads by respiratory droplets released when someone with the virus coughs, sneezes or talks.\n",
      "who are at higher risk\n",
      "DOCBot:  People who are older have a higher risk of serious illness from COVID-19 , and the risk increases with age.\n",
      "bye\n",
      "DOCBot: Chat with you later !\n"
     ]
    }
   ],
   "source": [
    "flag = True\n",
    "print(\"Hey,I m DocBOt,I am here to answer your queries about Covid-19.If you want to exit,enter Bye.\")\n",
    "\n",
    "while(flag == True):\n",
    "    user_response = input()\n",
    "    user_response = user_response.lower()\n",
    "    if( user_response != 'bye'):\n",
    "         if(user_response == 'thanks' or user_response =='thank you'):\n",
    "          flag = False\n",
    "          print(\"DocBot: You are welcome\")\n",
    "         else:\n",
    "            if(greet(user_response) != None):\n",
    "                 print(\"DOCBot: \"+greet(user_response))\n",
    "            else:\n",
    "                 print(\"DOCBot: \"+response(user_response))       \n",
    "    else:\n",
    "        flag = False\n",
    "        print(\"DOCBot: Chat with you later !\")"
   ]
  },
  {
   "cell_type": "code",
   "execution_count": null,
   "metadata": {},
   "outputs": [],
   "source": []
  }
 ],
 "metadata": {
  "kernelspec": {
   "display_name": "Python 3",
   "language": "python",
   "name": "python3"
  },
  "language_info": {
   "codemirror_mode": {
    "name": "ipython",
    "version": 3
   },
   "file_extension": ".py",
   "mimetype": "text/x-python",
   "name": "python",
   "nbconvert_exporter": "python",
   "pygments_lexer": "ipython3",
   "version": "3.7.3"
  }
 },
 "nbformat": 4,
 "nbformat_minor": 2
}
